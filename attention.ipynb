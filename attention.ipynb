{
  "nbformat": 4,
  "nbformat_minor": 0,
  "metadata": {
    "colab": {
      "provenance": [],
      "authorship_tag": "ABX9TyNNyZ5vJLT/Grig63bl63Tl",
      "include_colab_link": true
    },
    "kernelspec": {
      "name": "python3",
      "display_name": "Python 3"
    },
    "language_info": {
      "name": "python"
    }
  },
  "cells": [
    {
      "cell_type": "markdown",
      "metadata": {
        "id": "view-in-github",
        "colab_type": "text"
      },
      "source": [
        "<a href=\"https://colab.research.google.com/github/satani99/attention_is_all_you_need/blob/main/attention.ipynb\" target=\"_parent\"><img src=\"https://colab.research.google.com/assets/colab-badge.svg\" alt=\"Open In Colab\"/></a>"
      ]
    },
    {
      "cell_type": "code",
      "execution_count": 1,
      "metadata": {
        "colab": {
          "base_uri": "https://localhost:8080/"
        },
        "id": "Cg_dpd07bJFh",
        "outputId": "d37aa209-960e-49a1-9fbb-40d6403a8614"
      },
      "outputs": [
        {
          "output_type": "execute_result",
          "data": {
            "text/plain": [
              "tensor([0, 7, 1, 2, 5, 6, 4, 3])"
            ]
          },
          "metadata": {},
          "execution_count": 1
        }
      ],
      "source": [
        "import torch\n",
        "sentence = torch.tensor(\n",
        "    [0,\n",
        "     7,\n",
        "     1,\n",
        "     2,\n",
        "     5,\n",
        "     6,\n",
        "     4,\n",
        "     3]\n",
        ")\n",
        "sentence"
      ]
    },
    {
      "cell_type": "code",
      "source": [
        "torch.manual_seed(42)\n",
        "embed = torch.nn.Embedding(10, 16)\n",
        "embedded_sentence = embed(sentence).detach()\n",
        "embedded_sentence.shape"
      ],
      "metadata": {
        "colab": {
          "base_uri": "https://localhost:8080/"
        },
        "id": "eGBd88xxbagI",
        "outputId": "43ba22ed-6f4a-4c94-fa27-05bcc23fbb29"
      },
      "execution_count": 2,
      "outputs": [
        {
          "output_type": "execute_result",
          "data": {
            "text/plain": [
              "torch.Size([8, 16])"
            ]
          },
          "metadata": {},
          "execution_count": 2
        }
      ]
    },
    {
      "cell_type": "code",
      "source": [
        "omega = torch.empty(8, 8)\n",
        "for i, x_i in enumerate(embedded_sentence):\n",
        "  for j, x_j in enumerate(embedded_sentence):\n",
        "    omega[i, j] = torch.dot(x_i, x_j)\n",
        "\n",
        "omega_mat = embedded_sentence.matmul(embedded_sentence.T)"
      ],
      "metadata": {
        "id": "z-95I9EHcCpo"
      },
      "execution_count": 3,
      "outputs": []
    },
    {
      "cell_type": "code",
      "source": [
        "torch.allclose(omega_mat, omega)"
      ],
      "metadata": {
        "colab": {
          "base_uri": "https://localhost:8080/"
        },
        "id": "t6K8ZTrecbUc",
        "outputId": "4aed854c-9d36-43ef-c294-020757754b8f"
      },
      "execution_count": 4,
      "outputs": [
        {
          "output_type": "execute_result",
          "data": {
            "text/plain": [
              "True"
            ]
          },
          "metadata": {},
          "execution_count": 4
        }
      ]
    },
    {
      "cell_type": "code",
      "source": [
        "omega.shape"
      ],
      "metadata": {
        "colab": {
          "base_uri": "https://localhost:8080/"
        },
        "id": "ymXS71oIc1Py",
        "outputId": "079a863e-9855-4416-a8f7-34ccce123783"
      },
      "execution_count": 5,
      "outputs": [
        {
          "output_type": "execute_result",
          "data": {
            "text/plain": [
              "torch.Size([8, 8])"
            ]
          },
          "metadata": {},
          "execution_count": 5
        }
      ]
    },
    {
      "cell_type": "code",
      "source": [
        "import torch.nn.functional as F \n",
        "attention_weights = F.softmax(omega, dim=1)\n",
        "attention_weights.shape"
      ],
      "metadata": {
        "colab": {
          "base_uri": "https://localhost:8080/"
        },
        "id": "nriLKDatdOfh",
        "outputId": "ffb706e7-9a95-4628-c3ba-07bc8de77245"
      },
      "execution_count": 6,
      "outputs": [
        {
          "output_type": "execute_result",
          "data": {
            "text/plain": [
              "torch.Size([8, 8])"
            ]
          },
          "metadata": {},
          "execution_count": 6
        }
      ]
    },
    {
      "cell_type": "code",
      "source": [
        "attention_weights"
      ],
      "metadata": {
        "colab": {
          "base_uri": "https://localhost:8080/"
        },
        "id": "hEClytscdezd",
        "outputId": "db24c192-8d6b-40ad-bd4f-d2f0f5502abb"
      },
      "execution_count": 7,
      "outputs": [
        {
          "output_type": "execute_result",
          "data": {
            "text/plain": [
              "tensor([[1.0000e+00, 8.8716e-14, 4.5282e-12, 1.9794e-11, 1.7690e-11, 3.4558e-12,\n",
              "         1.1407e-08, 3.7097e-12],\n",
              "        [1.5851e-06, 8.9771e-01, 1.0376e-03, 2.9957e-03, 1.2276e-03, 8.4663e-02,\n",
              "         7.9979e-05, 1.2282e-02],\n",
              "        [2.1346e-08, 2.7376e-07, 9.9999e-01, 3.4414e-09, 5.4635e-06, 1.4109e-08,\n",
              "         8.3542e-06, 1.9875e-07],\n",
              "        [1.1455e-09, 9.7027e-09, 4.2247e-11, 9.9995e-01, 3.4450e-10, 3.9137e-06,\n",
              "         7.0079e-10, 4.4827e-05],\n",
              "        [1.1860e-06, 4.6064e-06, 7.7701e-05, 3.9909e-07, 9.9992e-01, 8.8794e-07,\n",
              "         1.1313e-09, 1.5174e-07],\n",
              "        [2.8595e-07, 3.9208e-04, 2.4766e-07, 5.5960e-03, 1.0959e-06, 9.9353e-01,\n",
              "         3.7887e-07, 4.7552e-04],\n",
              "        [2.9961e-06, 1.1757e-09, 4.6546e-07, 3.1805e-09, 4.4321e-12, 1.2026e-09,\n",
              "         1.0000e+00, 8.1439e-09],\n",
              "        [5.3149e-08, 9.8482e-06, 6.0405e-07, 1.1098e-02, 3.2428e-08, 8.2334e-05,\n",
              "         4.4424e-07, 9.8881e-01]])"
            ]
          },
          "metadata": {},
          "execution_count": 7
        }
      ]
    },
    {
      "cell_type": "code",
      "source": [
        "attention_weights.sum(dim=1)"
      ],
      "metadata": {
        "colab": {
          "base_uri": "https://localhost:8080/"
        },
        "id": "euugDZqudign",
        "outputId": "258d944b-9021-4aca-9201-6a353ce489fa"
      },
      "execution_count": 8,
      "outputs": [
        {
          "output_type": "execute_result",
          "data": {
            "text/plain": [
              "tensor([1.0000, 1.0000, 1.0000, 1.0000, 1.0000, 1.0000, 1.0000, 1.0000])"
            ]
          },
          "metadata": {},
          "execution_count": 8
        }
      ]
    },
    {
      "cell_type": "code",
      "source": [
        "x_2 = embedded_sentence[1, :]"
      ],
      "metadata": {
        "id": "MWfygtqofDZX"
      },
      "execution_count": 9,
      "outputs": []
    },
    {
      "cell_type": "code",
      "source": [
        "context_vec_2 = torch.zeros(x_2.shape)"
      ],
      "metadata": {
        "id": "mclCw3cFjpFf"
      },
      "execution_count": 10,
      "outputs": []
    },
    {
      "cell_type": "code",
      "source": [
        "for j in range(8):\n",
        "  x_j = embedded_sentence[j, :]\n",
        "  context_vec_2 += attention_weights[1, j] * x_j"
      ],
      "metadata": {
        "id": "SzFa8ULgjvfy"
      },
      "execution_count": 11,
      "outputs": []
    },
    {
      "cell_type": "code",
      "source": [
        "context_vec_2"
      ],
      "metadata": {
        "colab": {
          "base_uri": "https://localhost:8080/"
        },
        "id": "uKLJ-H8kj9gU",
        "outputId": "e8491e39-fbb1-424b-fd1a-4c00848f2d01"
      },
      "execution_count": 12,
      "outputs": [
        {
          "output_type": "execute_result",
          "data": {
            "text/plain": [
              "tensor([-1.5340, -0.0618, -0.4731,  0.4421,  0.7010,  0.1463, -0.2659,  0.4264,\n",
              "        -0.0467,  0.2842,  0.1492,  0.7098,  0.9981,  0.4409,  0.6292,  0.3606])"
            ]
          },
          "metadata": {},
          "execution_count": 12
        }
      ]
    },
    {
      "cell_type": "code",
      "source": [
        "context_vector = torch.matmul(attention_weights, embedded_sentence)"
      ],
      "metadata": {
        "id": "YJ5K7zIWj_3z"
      },
      "execution_count": 13,
      "outputs": []
    },
    {
      "cell_type": "code",
      "source": [
        "context_vector.shape"
      ],
      "metadata": {
        "colab": {
          "base_uri": "https://localhost:8080/"
        },
        "id": "ilwYpi8akRQI",
        "outputId": "1da5f097-4b09-4e5b-baab-502bdb35d9c3"
      },
      "execution_count": 14,
      "outputs": [
        {
          "output_type": "execute_result",
          "data": {
            "text/plain": [
              "torch.Size([8, 16])"
            ]
          },
          "metadata": {},
          "execution_count": 14
        }
      ]
    },
    {
      "cell_type": "code",
      "source": [
        "torch.allclose(context_vec_2, context_vector[1])"
      ],
      "metadata": {
        "colab": {
          "base_uri": "https://localhost:8080/"
        },
        "id": "_8AceN-xkTD7",
        "outputId": "7d0dca91-039c-470d-e7f8-fc84a5ed7520"
      },
      "execution_count": 15,
      "outputs": [
        {
          "output_type": "execute_result",
          "data": {
            "text/plain": [
              "True"
            ]
          },
          "metadata": {},
          "execution_count": 15
        }
      ]
    },
    {
      "cell_type": "markdown",
      "source": [
        "##Scaled Dot-product attention"
      ],
      "metadata": {
        "id": "_E4cxnzGoTXv"
      }
    },
    {
      "cell_type": "code",
      "source": [
        "torch.manual_seed(42)\n",
        "d = embedded_sentence.shape[1]\n",
        "U_query = torch.rand(d, d)\n",
        "U_key = torch.rand(d, d)\n",
        "U_value = torch.rand(d, d)"
      ],
      "metadata": {
        "id": "qYi3xuL7oYrK"
      },
      "execution_count": 16,
      "outputs": []
    },
    {
      "cell_type": "code",
      "source": [
        "x_2 = embedded_sentence[1]\n",
        "query_2 = U_query.matmul(x_2)"
      ],
      "metadata": {
        "id": "-8L7-YA62S7e"
      },
      "execution_count": 17,
      "outputs": []
    },
    {
      "cell_type": "code",
      "source": [
        "key_2 = U_key.matmul(x_2)\n",
        "value_2 = U_value.matmul(x_2)"
      ],
      "metadata": {
        "id": "JtXd8s0_2oid"
      },
      "execution_count": 18,
      "outputs": []
    },
    {
      "cell_type": "code",
      "source": [
        "query_2"
      ],
      "metadata": {
        "colab": {
          "base_uri": "https://localhost:8080/"
        },
        "id": "esBm8TZi3g-Q",
        "outputId": "488daf53-846c-4086-a4c8-5c6324618e81"
      },
      "execution_count": 19,
      "outputs": [
        {
          "output_type": "execute_result",
          "data": {
            "text/plain": [
              "tensor([ 1.9594,  0.9311,  1.9671,  0.8957,  0.0800,  1.5594, -0.1917,  0.2971,\n",
              "         0.3863,  1.8167,  0.8888,  1.2970,  0.6111,  0.9745,  1.6844,  0.5390])"
            ]
          },
          "metadata": {},
          "execution_count": 19
        }
      ]
    },
    {
      "cell_type": "code",
      "source": [
        "keys = U_key.matmul(embedded_sentence.T).T\n",
        "values = U_value.matmul(embedded_sentence.T).T"
      ],
      "metadata": {
        "id": "6LmWwkBz208d"
      },
      "execution_count": 20,
      "outputs": []
    },
    {
      "cell_type": "code",
      "source": [
        "keys.shape"
      ],
      "metadata": {
        "colab": {
          "base_uri": "https://localhost:8080/"
        },
        "id": "qKZ41d0d5TcD",
        "outputId": "93660208-f967-40ec-b788-72c450617aa0"
      },
      "execution_count": 21,
      "outputs": [
        {
          "output_type": "execute_result",
          "data": {
            "text/plain": [
              "torch.Size([8, 16])"
            ]
          },
          "metadata": {},
          "execution_count": 21
        }
      ]
    },
    {
      "cell_type": "code",
      "source": [
        "omega_23 = query_2.dot(keys[2])\n",
        "omega_23"
      ],
      "metadata": {
        "colab": {
          "base_uri": "https://localhost:8080/"
        },
        "id": "ak-WXD275XM1",
        "outputId": "9ab5b199-64ab-4d0c-8ea3-381beee207a4"
      },
      "execution_count": 22,
      "outputs": [
        {
          "output_type": "execute_result",
          "data": {
            "text/plain": [
              "tensor(70.6821)"
            ]
          },
          "metadata": {},
          "execution_count": 22
        }
      ]
    },
    {
      "cell_type": "code",
      "source": [
        "omega_2 = query_2.matmul(keys.T)\n",
        "omega_2"
      ],
      "metadata": {
        "colab": {
          "base_uri": "https://localhost:8080/"
        },
        "id": "kx7MPO-_57iT",
        "outputId": "4d286f67-f2f9-4253-9297-da6b1896a8fc"
      },
      "execution_count": 23,
      "outputs": [
        {
          "output_type": "execute_result",
          "data": {
            "text/plain": [
              "tensor([ -2.9915,  19.0139,  70.6821, -32.9331,  -9.6415,  20.1790,  23.0588,\n",
              "        -12.4027])"
            ]
          },
          "metadata": {},
          "execution_count": 23
        }
      ]
    },
    {
      "cell_type": "code",
      "source": [
        "attention_weights_2 = F.softmax(omega_2 / d**0.5, dim=0)\n",
        "attention_weights_2"
      ],
      "metadata": {
        "colab": {
          "base_uri": "https://localhost:8080/"
        },
        "id": "sdO3dRmO6GSk",
        "outputId": "fef05b08-00e2-439f-b4db-daffad5e3c1a"
      },
      "execution_count": 24,
      "outputs": [
        {
          "output_type": "execute_result",
          "data": {
            "text/plain": [
              "tensor([1.0023e-08, 2.4558e-06, 9.9999e-01, 5.6249e-12, 1.9009e-09, 3.2862e-06,\n",
              "        6.7510e-06, 9.5320e-10])"
            ]
          },
          "metadata": {},
          "execution_count": 24
        }
      ]
    },
    {
      "cell_type": "code",
      "source": [
        "context_vector_2 = attention_weights_2.matmul(values)\n",
        "context_vector_2.shape"
      ],
      "metadata": {
        "colab": {
          "base_uri": "https://localhost:8080/"
        },
        "id": "8qzBaeav7kKw",
        "outputId": "b3e02945-3a7a-46f5-d2ae-c83112b624ec"
      },
      "execution_count": 25,
      "outputs": [
        {
          "output_type": "execute_result",
          "data": {
            "text/plain": [
              "torch.Size([16])"
            ]
          },
          "metadata": {},
          "execution_count": 25
        }
      ]
    },
    {
      "cell_type": "markdown",
      "source": [
        "##Encoding context embedding via multi-head attention"
      ],
      "metadata": {
        "id": "0hH_ce1T_K-z"
      }
    },
    {
      "cell_type": "code",
      "source": [
        "torch.manual_seed(42)\n",
        "d = embedded_sentence.shape[1]\n",
        "one_U_query = torch.rand(d, d)"
      ],
      "metadata": {
        "id": "SZ-9MnCy9D1K"
      },
      "execution_count": 26,
      "outputs": []
    },
    {
      "cell_type": "code",
      "source": [
        "h = 8\n",
        "multihead_U_query = torch.rand(h, d, d)\n",
        "multihead_U_key = torch.rand(h, d, d)\n",
        "multihead_U_value = torch.rand(h, d, d)"
      ],
      "metadata": {
        "id": "WaobQcnBCK4X"
      },
      "execution_count": 27,
      "outputs": []
    },
    {
      "cell_type": "code",
      "source": [
        "multihead_U_query.shape"
      ],
      "metadata": {
        "colab": {
          "base_uri": "https://localhost:8080/"
        },
        "id": "cMMsXi0rCfXm",
        "outputId": "3ac6d59d-8188-4782-bd10-745d4a9d92d7"
      },
      "execution_count": 28,
      "outputs": [
        {
          "output_type": "execute_result",
          "data": {
            "text/plain": [
              "torch.Size([8, 16, 16])"
            ]
          },
          "metadata": {},
          "execution_count": 28
        }
      ]
    },
    {
      "cell_type": "code",
      "source": [
        "multihead_query_2 = multihead_U_query.matmul(x_2)\n",
        "multihead_query_2.shape"
      ],
      "metadata": {
        "colab": {
          "base_uri": "https://localhost:8080/"
        },
        "id": "W4AWgxYcCmBt",
        "outputId": "b623573e-eae4-4bd0-853d-3cf097660a6e"
      },
      "execution_count": 29,
      "outputs": [
        {
          "output_type": "execute_result",
          "data": {
            "text/plain": [
              "torch.Size([8, 16])"
            ]
          },
          "metadata": {},
          "execution_count": 29
        }
      ]
    },
    {
      "cell_type": "code",
      "source": [
        "multihead_key_2 = multihead_U_key.matmul(x_2)\n",
        "multihead_value_2 = multihead_U_value.matmul(x_2)\n",
        "multihead_key_2[2] #the key vector of the second input element via the third attention head"
      ],
      "metadata": {
        "colab": {
          "base_uri": "https://localhost:8080/"
        },
        "id": "dVGlHdqiFIaj",
        "outputId": "d64fb7b1-79fc-4503-d13c-05957881e434"
      },
      "execution_count": 30,
      "outputs": [
        {
          "output_type": "execute_result",
          "data": {
            "text/plain": [
              "tensor([2.0321, 3.2833, 1.5345, 2.3700, 1.1367, 1.2881, 1.6517, 0.1471, 0.7686,\n",
              "        0.6164, 1.2495, 0.9765, 1.7931, 0.3502, 2.4158, 2.2162])"
            ]
          },
          "metadata": {},
          "execution_count": 30
        }
      ]
    },
    {
      "cell_type": "code",
      "source": [
        "stacked_inputs = embedded_sentence.T.repeat(8, 1, 1)\n",
        "stacked_inputs.shape"
      ],
      "metadata": {
        "colab": {
          "base_uri": "https://localhost:8080/"
        },
        "id": "7xWHTu51GlSc",
        "outputId": "3794e82d-33e1-4135-f0a8-9adf04875ed3"
      },
      "execution_count": 31,
      "outputs": [
        {
          "output_type": "execute_result",
          "data": {
            "text/plain": [
              "torch.Size([8, 16, 8])"
            ]
          },
          "metadata": {},
          "execution_count": 31
        }
      ]
    },
    {
      "cell_type": "code",
      "source": [
        "multihead_keys = torch.bmm(multihead_U_key, stacked_inputs)\n",
        "multihead_keys.shape"
      ],
      "metadata": {
        "colab": {
          "base_uri": "https://localhost:8080/"
        },
        "id": "fasUEXWVH6LA",
        "outputId": "9142bf0b-37aa-462b-f0b3-aff16a9202f3"
      },
      "execution_count": 32,
      "outputs": [
        {
          "output_type": "execute_result",
          "data": {
            "text/plain": [
              "torch.Size([8, 16, 8])"
            ]
          },
          "metadata": {},
          "execution_count": 32
        }
      ]
    },
    {
      "cell_type": "code",
      "source": [
        "multihead_keys = multihead_keys.permute(0, 2, 1)\n",
        "multihead_keys.shape"
      ],
      "metadata": {
        "colab": {
          "base_uri": "https://localhost:8080/"
        },
        "id": "4XC4BNQrIJHH",
        "outputId": "52abcc6b-f949-4e5f-a10a-ccdb2564889a"
      },
      "execution_count": 33,
      "outputs": [
        {
          "output_type": "execute_result",
          "data": {
            "text/plain": [
              "torch.Size([8, 8, 16])"
            ]
          },
          "metadata": {},
          "execution_count": 33
        }
      ]
    },
    {
      "cell_type": "code",
      "source": [
        "multihead_keys[2, 1]"
      ],
      "metadata": {
        "colab": {
          "base_uri": "https://localhost:8080/"
        },
        "id": "v7kt4CbcJAza",
        "outputId": "c01a3b50-f7cb-4274-ac47-e9bcd0a122da"
      },
      "execution_count": 34,
      "outputs": [
        {
          "output_type": "execute_result",
          "data": {
            "text/plain": [
              "tensor([2.0321, 3.2833, 1.5345, 2.3700, 1.1367, 1.2881, 1.6517, 0.1471, 0.7686,\n",
              "        0.6164, 1.2495, 0.9765, 1.7931, 0.3502, 2.4158, 2.2162])"
            ]
          },
          "metadata": {},
          "execution_count": 34
        }
      ]
    },
    {
      "cell_type": "code",
      "source": [
        "multihead_values = torch.matmul(multihead_U_value, stacked_inputs)\n",
        "multihead_values = multihead_values.permute(0, 2, 1)\n",
        "multihead_values.shape"
      ],
      "metadata": {
        "colab": {
          "base_uri": "https://localhost:8080/"
        },
        "id": "B6SfRnsZJKT7",
        "outputId": "971b9b0b-d015-4212-e10e-ae52444d1031"
      },
      "execution_count": 35,
      "outputs": [
        {
          "output_type": "execute_result",
          "data": {
            "text/plain": [
              "torch.Size([8, 8, 16])"
            ]
          },
          "metadata": {},
          "execution_count": 35
        }
      ]
    },
    {
      "cell_type": "code",
      "source": [
        "multihead_z_2 = torch.rand(8, 16)"
      ],
      "metadata": {
        "id": "2bBg_PfHJteK"
      },
      "execution_count": 36,
      "outputs": []
    },
    {
      "cell_type": "code",
      "source": [
        "omega_multi_2 = torch.bmm(multihead_query_2.view(8, 1, 16), multihead_keys.permute(0, 2, 1))"
      ],
      "metadata": {
        "id": "ITqInJdTJ5h1"
      },
      "execution_count": 43,
      "outputs": []
    },
    {
      "cell_type": "code",
      "source": [
        "omega_multi_2 = omega_multi_2.reshape(8, 8)"
      ],
      "metadata": {
        "id": "qNfu5r5HLPtp"
      },
      "execution_count": 40,
      "outputs": []
    },
    {
      "cell_type": "code",
      "source": [
        "omega_multi_2.shape"
      ],
      "metadata": {
        "id": "lXISAei1OUH0",
        "colab": {
          "base_uri": "https://localhost:8080/"
        },
        "outputId": "e9de053f-a1d7-437c-ed8d-5c2b7a60fa9b"
      },
      "execution_count": 44,
      "outputs": [
        {
          "output_type": "execute_result",
          "data": {
            "text/plain": [
              "torch.Size([8, 1, 8])"
            ]
          },
          "metadata": {},
          "execution_count": 44
        }
      ]
    },
    {
      "cell_type": "code",
      "source": [
        "multi_attention_weights_2 = F.softmax(omega_multi_2 / d**0.5, dim=0)\n",
        "multi_attention_weights_2"
      ],
      "metadata": {
        "colab": {
          "base_uri": "https://localhost:8080/"
        },
        "id": "vN95bvuWJiUt",
        "outputId": "d41284c4-7b94-45e3-ed86-67a8f90e3ca8"
      },
      "execution_count": 46,
      "outputs": [
        {
          "output_type": "execute_result",
          "data": {
            "text/plain": [
              "tensor([[[4.2392e-01, 1.2445e-01, 3.8245e-05, 1.9425e-01, 8.1041e-04,\n",
              "          1.7275e-01, 1.9889e-02, 3.1984e-02]],\n",
              "\n",
              "        [[3.7139e-01, 1.4377e-01, 3.5716e-04, 4.2516e-01, 2.5854e-03,\n",
              "          4.5327e-01, 1.9640e-02, 3.2628e-02]],\n",
              "\n",
              "        [[3.6528e-03, 1.0176e-01, 7.2263e-01, 6.3381e-03, 9.0329e-02,\n",
              "          1.3697e-02, 5.4381e-03, 1.5120e-02]],\n",
              "\n",
              "        [[2.3187e-02, 8.6181e-02, 1.9426e-01, 2.1601e-02, 1.4555e-02,\n",
              "          9.4579e-02, 7.3533e-01, 1.1744e-02]],\n",
              "\n",
              "        [[1.3422e-03, 4.1996e-01, 2.7147e-02, 1.5609e-03, 1.6484e-01,\n",
              "          1.0101e-01, 1.0680e-03, 4.4225e-03]],\n",
              "\n",
              "        [[6.3048e-02, 2.3763e-02, 5.4945e-02, 4.6431e-04, 8.9770e-02,\n",
              "          1.2336e-01, 1.4823e-01, 1.7128e-03]],\n",
              "\n",
              "        [[9.5721e-03, 7.8261e-02, 4.8254e-04, 2.1447e-01, 4.7506e-03,\n",
              "          3.2364e-02, 6.9969e-02, 8.8104e-01]],\n",
              "\n",
              "        [[1.0389e-01, 2.1861e-02, 1.3763e-04, 1.3615e-01, 6.3236e-01,\n",
              "          8.9557e-03, 4.4134e-04, 2.1353e-02]]])"
            ]
          },
          "metadata": {},
          "execution_count": 46
        }
      ]
    },
    {
      "cell_type": "code",
      "source": [
        "multihead_z_2 = torch.bmm(multi_attention_weights_2, multihead_values)\n",
        "multihead_z_2 = multihead_z_2.reshape(8, 16)"
      ],
      "metadata": {
        "id": "6h4VSZ9dJ-ce"
      },
      "execution_count": 48,
      "outputs": []
    },
    {
      "cell_type": "code",
      "source": [
        "linear = torch.nn.Linear(8*16, 16)\n",
        "context_vector_2 = linear(multihead_z_2.flatten())\n",
        "context_vector_2.shape"
      ],
      "metadata": {
        "colab": {
          "base_uri": "https://localhost:8080/"
        },
        "id": "w7UyWCVuLKox",
        "outputId": "868ef0cf-78f0-4379-e55f-4b8ffecbbe64"
      },
      "execution_count": 49,
      "outputs": [
        {
          "output_type": "execute_result",
          "data": {
            "text/plain": [
              "torch.Size([16])"
            ]
          },
          "metadata": {},
          "execution_count": 49
        }
      ]
    },
    {
      "cell_type": "markdown",
      "source": [
        "##Decoder and masked multihead attention"
      ],
      "metadata": {
        "id": "wgBMBETvMaqv"
      }
    },
    {
      "cell_type": "code",
      "source": [],
      "metadata": {
        "id": "Mi6T6UUFMOtQ"
      },
      "execution_count": null,
      "outputs": []
    }
  ]
}