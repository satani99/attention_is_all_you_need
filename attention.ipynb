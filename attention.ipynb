{
  "nbformat": 4,
  "nbformat_minor": 0,
  "metadata": {
    "colab": {
      "provenance": [],
      "authorship_tag": "ABX9TyO2EEbokOx6piU6nnXPjf56",
      "include_colab_link": true
    },
    "kernelspec": {
      "name": "python3",
      "display_name": "Python 3"
    },
    "language_info": {
      "name": "python"
    }
  },
  "cells": [
    {
      "cell_type": "markdown",
      "metadata": {
        "id": "view-in-github",
        "colab_type": "text"
      },
      "source": [
        "<a href=\"https://colab.research.google.com/github/satani99/attention_is_all_you_need/blob/main/attention.ipynb\" target=\"_parent\"><img src=\"https://colab.research.google.com/assets/colab-badge.svg\" alt=\"Open In Colab\"/></a>"
      ]
    },
    {
      "cell_type": "code",
      "execution_count": 1,
      "metadata": {
        "colab": {
          "base_uri": "https://localhost:8080/"
        },
        "id": "Cg_dpd07bJFh",
        "outputId": "1b64d2ca-de32-4c55-9010-bfc75cff1200"
      },
      "outputs": [
        {
          "output_type": "execute_result",
          "data": {
            "text/plain": [
              "tensor([0, 7, 1, 2, 5, 6, 4, 3])"
            ]
          },
          "metadata": {},
          "execution_count": 1
        }
      ],
      "source": [
        "import torch\n",
        "sentence = torch.tensor(\n",
        "    [0,\n",
        "     7,\n",
        "     1,\n",
        "     2,\n",
        "     5,\n",
        "     6,\n",
        "     4,\n",
        "     3]\n",
        ")\n",
        "sentence"
      ]
    },
    {
      "cell_type": "code",
      "source": [
        "torch.manual_seed(42)\n",
        "embed = torch.nn.Embedding(10, 16)\n",
        "embedded_sentence = embed(sentence).detach()\n",
        "embedded_sentence.shape"
      ],
      "metadata": {
        "colab": {
          "base_uri": "https://localhost:8080/"
        },
        "id": "eGBd88xxbagI",
        "outputId": "8e42c0f5-e4da-4402-eb02-716a83aca310"
      },
      "execution_count": 2,
      "outputs": [
        {
          "output_type": "execute_result",
          "data": {
            "text/plain": [
              "torch.Size([8, 16])"
            ]
          },
          "metadata": {},
          "execution_count": 2
        }
      ]
    },
    {
      "cell_type": "code",
      "source": [
        "omega = torch.empty(8, 8)\n",
        "for i, x_i in enumerate(embedded_sentence):\n",
        "  for j, x_j in enumerate(embedded_sentence):\n",
        "    omega[i, j] = torch.dot(x_i, x_j)\n",
        "\n",
        "omega_mat = embedded_sentence.matmul(embedded_sentence.T)"
      ],
      "metadata": {
        "id": "z-95I9EHcCpo"
      },
      "execution_count": 3,
      "outputs": []
    },
    {
      "cell_type": "code",
      "source": [
        "torch.allclose(omega_mat, omega)"
      ],
      "metadata": {
        "colab": {
          "base_uri": "https://localhost:8080/"
        },
        "id": "t6K8ZTrecbUc",
        "outputId": "317e3d80-965c-46e2-ea61-d87b3f989817"
      },
      "execution_count": 4,
      "outputs": [
        {
          "output_type": "execute_result",
          "data": {
            "text/plain": [
              "True"
            ]
          },
          "metadata": {},
          "execution_count": 4
        }
      ]
    },
    {
      "cell_type": "code",
      "source": [
        "omega.shape"
      ],
      "metadata": {
        "colab": {
          "base_uri": "https://localhost:8080/"
        },
        "id": "ymXS71oIc1Py",
        "outputId": "679a7333-8c28-49a3-d12b-cc2baaeae176"
      },
      "execution_count": 5,
      "outputs": [
        {
          "output_type": "execute_result",
          "data": {
            "text/plain": [
              "torch.Size([8, 8])"
            ]
          },
          "metadata": {},
          "execution_count": 5
        }
      ]
    },
    {
      "cell_type": "code",
      "source": [
        "import torch.nn.functional as F \n",
        "attention_weights = F.softmax(omega, dim=1)\n",
        "attention_weights.shape"
      ],
      "metadata": {
        "colab": {
          "base_uri": "https://localhost:8080/"
        },
        "id": "nriLKDatdOfh",
        "outputId": "7af50649-9c82-464a-e9d0-73fcecd14648"
      },
      "execution_count": 6,
      "outputs": [
        {
          "output_type": "execute_result",
          "data": {
            "text/plain": [
              "torch.Size([8, 8])"
            ]
          },
          "metadata": {},
          "execution_count": 6
        }
      ]
    },
    {
      "cell_type": "code",
      "source": [
        "attention_weights"
      ],
      "metadata": {
        "colab": {
          "base_uri": "https://localhost:8080/"
        },
        "id": "hEClytscdezd",
        "outputId": "68a89d8f-c4ae-4827-c374-8157ff8fc56f"
      },
      "execution_count": 7,
      "outputs": [
        {
          "output_type": "execute_result",
          "data": {
            "text/plain": [
              "tensor([[1.0000e+00, 8.8716e-14, 4.5282e-12, 1.9794e-11, 1.7691e-11, 3.4558e-12,\n",
              "         1.1407e-08, 3.7097e-12],\n",
              "        [1.5851e-06, 8.9771e-01, 1.0376e-03, 2.9957e-03, 1.2276e-03, 8.4663e-02,\n",
              "         7.9979e-05, 1.2282e-02],\n",
              "        [2.1346e-08, 2.7376e-07, 9.9999e-01, 3.4414e-09, 5.4635e-06, 1.4109e-08,\n",
              "         8.3541e-06, 1.9875e-07],\n",
              "        [1.1455e-09, 9.7027e-09, 4.2247e-11, 9.9995e-01, 3.4450e-10, 3.9137e-06,\n",
              "         7.0079e-10, 4.4827e-05],\n",
              "        [1.1860e-06, 4.6064e-06, 7.7701e-05, 3.9909e-07, 9.9992e-01, 8.8794e-07,\n",
              "         1.1313e-09, 1.5174e-07],\n",
              "        [2.8595e-07, 3.9208e-04, 2.4766e-07, 5.5960e-03, 1.0959e-06, 9.9353e-01,\n",
              "         3.7887e-07, 4.7552e-04],\n",
              "        [2.9961e-06, 1.1757e-09, 4.6546e-07, 3.1805e-09, 4.4321e-12, 1.2026e-09,\n",
              "         1.0000e+00, 8.1439e-09],\n",
              "        [5.3149e-08, 9.8482e-06, 6.0406e-07, 1.1098e-02, 3.2428e-08, 8.2335e-05,\n",
              "         4.4424e-07, 9.8881e-01]])"
            ]
          },
          "metadata": {},
          "execution_count": 7
        }
      ]
    },
    {
      "cell_type": "code",
      "source": [
        "attention_weights.sum(dim=1)"
      ],
      "metadata": {
        "colab": {
          "base_uri": "https://localhost:8080/"
        },
        "id": "euugDZqudign",
        "outputId": "5880beaa-be06-4947-8dc3-61f58a19e4f1"
      },
      "execution_count": 8,
      "outputs": [
        {
          "output_type": "execute_result",
          "data": {
            "text/plain": [
              "tensor([1.0000, 1.0000, 1.0000, 1.0000, 1.0000, 1.0000, 1.0000, 1.0000])"
            ]
          },
          "metadata": {},
          "execution_count": 8
        }
      ]
    },
    {
      "cell_type": "code",
      "source": [
        "x_2 = embedded_sentence[1, :]"
      ],
      "metadata": {
        "id": "MWfygtqofDZX"
      },
      "execution_count": 9,
      "outputs": []
    },
    {
      "cell_type": "code",
      "source": [
        "context_vec_2 = torch.zeros(x_2.shape)"
      ],
      "metadata": {
        "id": "mclCw3cFjpFf"
      },
      "execution_count": 10,
      "outputs": []
    },
    {
      "cell_type": "code",
      "source": [
        "for j in range(8):\n",
        "  x_j = embedded_sentence[j, :]\n",
        "  context_vec_2 += attention_weights[1, j] * x_j"
      ],
      "metadata": {
        "id": "SzFa8ULgjvfy"
      },
      "execution_count": 11,
      "outputs": []
    },
    {
      "cell_type": "code",
      "source": [
        "context_vec_2"
      ],
      "metadata": {
        "colab": {
          "base_uri": "https://localhost:8080/"
        },
        "id": "uKLJ-H8kj9gU",
        "outputId": "5c51b6f1-71b4-4635-b21f-ba26fe597093"
      },
      "execution_count": 12,
      "outputs": [
        {
          "output_type": "execute_result",
          "data": {
            "text/plain": [
              "tensor([-1.5340, -0.0618, -0.4731,  0.4421,  0.7010,  0.1463, -0.2659,  0.4264,\n",
              "        -0.0467,  0.2842,  0.1492,  0.7098,  0.9981,  0.4409,  0.6292,  0.3606])"
            ]
          },
          "metadata": {},
          "execution_count": 12
        }
      ]
    },
    {
      "cell_type": "code",
      "source": [
        "context_vector = torch.matmul(attention_weights, embedded_sentence)"
      ],
      "metadata": {
        "id": "YJ5K7zIWj_3z"
      },
      "execution_count": 13,
      "outputs": []
    },
    {
      "cell_type": "code",
      "source": [
        "context_vector.shape"
      ],
      "metadata": {
        "colab": {
          "base_uri": "https://localhost:8080/"
        },
        "id": "ilwYpi8akRQI",
        "outputId": "fe254756-3900-4553-a6b1-1299bd3e64e1"
      },
      "execution_count": 14,
      "outputs": [
        {
          "output_type": "execute_result",
          "data": {
            "text/plain": [
              "torch.Size([8, 16])"
            ]
          },
          "metadata": {},
          "execution_count": 14
        }
      ]
    },
    {
      "cell_type": "code",
      "source": [
        "torch.allclose(context_vec_2, context_vector[1])"
      ],
      "metadata": {
        "colab": {
          "base_uri": "https://localhost:8080/"
        },
        "id": "_8AceN-xkTD7",
        "outputId": "ab7351ed-26a2-4f96-bc40-f9dbb095c995"
      },
      "execution_count": 15,
      "outputs": [
        {
          "output_type": "execute_result",
          "data": {
            "text/plain": [
              "True"
            ]
          },
          "metadata": {},
          "execution_count": 15
        }
      ]
    },
    {
      "cell_type": "markdown",
      "source": [
        "##Scaled Dot-product attention"
      ],
      "metadata": {
        "id": "_E4cxnzGoTXv"
      }
    },
    {
      "cell_type": "code",
      "source": [
        "torch.manual_seed(42)\n",
        "d = embedded_sentence.shape[1]\n",
        "U_query = torch.rand(d, d)\n",
        "U_key = torch.rand(d, d)\n",
        "U_value = torch.rand(d, d)"
      ],
      "metadata": {
        "id": "qYi3xuL7oYrK"
      },
      "execution_count": 21,
      "outputs": []
    },
    {
      "cell_type": "code",
      "source": [
        "x_2 = embedded_sentence[1]\n",
        "query_2 = U_query.matmul(x_2)"
      ],
      "metadata": {
        "id": "-8L7-YA62S7e"
      },
      "execution_count": 22,
      "outputs": []
    },
    {
      "cell_type": "code",
      "source": [
        "key_2 = U_key.matmul(x_2)\n",
        "value_2 = U_value.matmul(x_2)"
      ],
      "metadata": {
        "id": "JtXd8s0_2oid"
      },
      "execution_count": 23,
      "outputs": []
    },
    {
      "cell_type": "code",
      "source": [
        "query_2"
      ],
      "metadata": {
        "colab": {
          "base_uri": "https://localhost:8080/"
        },
        "id": "esBm8TZi3g-Q",
        "outputId": "a64a7e74-5524-4a35-cba5-a25dd2172118"
      },
      "execution_count": 30,
      "outputs": [
        {
          "output_type": "execute_result",
          "data": {
            "text/plain": [
              "tensor([ 1.9594,  0.9311,  1.9671,  0.8957,  0.0800,  1.5594, -0.1917,  0.2971,\n",
              "         0.3863,  1.8167,  0.8888,  1.2970,  0.6111,  0.9745,  1.6844,  0.5390])"
            ]
          },
          "metadata": {},
          "execution_count": 30
        }
      ]
    },
    {
      "cell_type": "code",
      "source": [
        "keys = U_key.matmul(embedded_sentence.T).T\n",
        "values = U_value.matmul(embedded_sentence.T).T"
      ],
      "metadata": {
        "id": "6LmWwkBz208d"
      },
      "execution_count": 31,
      "outputs": []
    },
    {
      "cell_type": "code",
      "source": [
        "keys.shape"
      ],
      "metadata": {
        "colab": {
          "base_uri": "https://localhost:8080/"
        },
        "id": "qKZ41d0d5TcD",
        "outputId": "283d1984-466b-45dd-abf9-e19e9ba16e21"
      },
      "execution_count": 32,
      "outputs": [
        {
          "output_type": "execute_result",
          "data": {
            "text/plain": [
              "torch.Size([8, 16])"
            ]
          },
          "metadata": {},
          "execution_count": 32
        }
      ]
    },
    {
      "cell_type": "code",
      "source": [
        "omega_23 = query_2.dot(keys[2])\n",
        "omega_23"
      ],
      "metadata": {
        "colab": {
          "base_uri": "https://localhost:8080/"
        },
        "id": "ak-WXD275XM1",
        "outputId": "c484c673-b125-46fe-8365-b5038e203763"
      },
      "execution_count": 33,
      "outputs": [
        {
          "output_type": "execute_result",
          "data": {
            "text/plain": [
              "tensor(70.6820)"
            ]
          },
          "metadata": {},
          "execution_count": 33
        }
      ]
    },
    {
      "cell_type": "code",
      "source": [
        "omega_2 = query_2.matmul(keys.T)\n",
        "omega_2"
      ],
      "metadata": {
        "colab": {
          "base_uri": "https://localhost:8080/"
        },
        "id": "kx7MPO-_57iT",
        "outputId": "9671ab18-2552-42c8-ae73-2883fc9dc4f0"
      },
      "execution_count": 34,
      "outputs": [
        {
          "output_type": "execute_result",
          "data": {
            "text/plain": [
              "tensor([ -2.9915,  19.0139,  70.6820, -32.9331,  -9.6415,  20.1790,  23.0588,\n",
              "        -12.4027])"
            ]
          },
          "metadata": {},
          "execution_count": 34
        }
      ]
    },
    {
      "cell_type": "code",
      "source": [
        "attention_weights_2 = F.softmax(omega_2 / d**0.5, dim=0)\n",
        "attention_weights_2"
      ],
      "metadata": {
        "colab": {
          "base_uri": "https://localhost:8080/"
        },
        "id": "sdO3dRmO6GSk",
        "outputId": "90bf4a90-1d5a-4a6d-ab4d-2485ee2a5a8c"
      },
      "execution_count": 38,
      "outputs": [
        {
          "output_type": "execute_result",
          "data": {
            "text/plain": [
              "tensor([1.0023e-08, 2.4558e-06, 9.9999e-01, 5.6250e-12, 1.9010e-09, 3.2862e-06,\n",
              "        6.7510e-06, 9.5321e-10])"
            ]
          },
          "metadata": {},
          "execution_count": 38
        }
      ]
    },
    {
      "cell_type": "code",
      "source": [
        "context_vector_2 = attention_weights_2.matmul(values)\n",
        "context_vector_2"
      ],
      "metadata": {
        "colab": {
          "base_uri": "https://localhost:8080/"
        },
        "id": "8qzBaeav7kKw",
        "outputId": "c81e7d71-5607-47b3-8c43-89c2516283d9"
      },
      "execution_count": 42,
      "outputs": [
        {
          "output_type": "execute_result",
          "data": {
            "text/plain": [
              "tensor([4.9591, 5.3071, 5.1345, 1.8415, 4.8305, 3.2982, 5.7193, 5.1012, 4.5425,\n",
              "        5.6862, 5.7829, 6.0999, 6.0630, 3.1988, 4.1003, 3.3661])"
            ]
          },
          "metadata": {},
          "execution_count": 42
        }
      ]
    },
    {
      "cell_type": "code",
      "source": [],
      "metadata": {
        "id": "SZ-9MnCy9D1K"
      },
      "execution_count": null,
      "outputs": []
    }
  ]
}