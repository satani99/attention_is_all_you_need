{
  "nbformat": 4,
  "nbformat_minor": 0,
  "metadata": {
    "colab": {
      "provenance": [],
      "authorship_tag": "ABX9TyNrF7Trtpn08T1N1Isn4QqI",
      "include_colab_link": true
    },
    "kernelspec": {
      "name": "python3",
      "display_name": "Python 3"
    },
    "language_info": {
      "name": "python"
    }
  },
  "cells": [
    {
      "cell_type": "markdown",
      "metadata": {
        "id": "view-in-github",
        "colab_type": "text"
      },
      "source": [
        "<a href=\"https://colab.research.google.com/github/satani99/attention_is_all_you_need/blob/main/attention.ipynb\" target=\"_parent\"><img src=\"https://colab.research.google.com/assets/colab-badge.svg\" alt=\"Open In Colab\"/></a>"
      ]
    },
    {
      "cell_type": "code",
      "execution_count": 1,
      "metadata": {
        "colab": {
          "base_uri": "https://localhost:8080/"
        },
        "id": "Cg_dpd07bJFh",
        "outputId": "6439246e-3176-430c-8beb-f50e8ecc1465"
      },
      "outputs": [
        {
          "output_type": "execute_result",
          "data": {
            "text/plain": [
              "tensor([0, 7, 1, 2, 5, 6, 4, 3])"
            ]
          },
          "metadata": {},
          "execution_count": 1
        }
      ],
      "source": [
        "import torch\n",
        "sentence = torch.tensor(\n",
        "    [0,\n",
        "     7,\n",
        "     1,\n",
        "     2,\n",
        "     5,\n",
        "     6,\n",
        "     4,\n",
        "     3]\n",
        ")\n",
        "sentence"
      ]
    },
    {
      "cell_type": "code",
      "source": [
        "torch.manual_seed(42)\n",
        "embed = torch.nn.Embedding(10, 16)\n",
        "embedded_sentence = embed(sentence).detach()\n",
        "embedded_sentence.shape"
      ],
      "metadata": {
        "colab": {
          "base_uri": "https://localhost:8080/"
        },
        "id": "eGBd88xxbagI",
        "outputId": "a2561bce-6230-4f4f-d15c-b36cc7ad5799"
      },
      "execution_count": 2,
      "outputs": [
        {
          "output_type": "execute_result",
          "data": {
            "text/plain": [
              "torch.Size([8, 16])"
            ]
          },
          "metadata": {},
          "execution_count": 2
        }
      ]
    },
    {
      "cell_type": "code",
      "source": [
        "omega = torch.empty(8, 8)\n",
        "for i, x_i in enumerate(embedded_sentence):\n",
        "  for j, x_j in enumerate(embedded_sentence):\n",
        "    omega[i, j] = torch.dot(x_i, x_j)\n",
        "\n",
        "omega_mat = embedded_sentence.matmul(embedded_sentence.T)"
      ],
      "metadata": {
        "id": "z-95I9EHcCpo"
      },
      "execution_count": 3,
      "outputs": []
    },
    {
      "cell_type": "code",
      "source": [
        "torch.allclose(omega_mat, omega)"
      ],
      "metadata": {
        "colab": {
          "base_uri": "https://localhost:8080/"
        },
        "id": "t6K8ZTrecbUc",
        "outputId": "a02d4b5e-d240-40b1-a36b-02e3fcf855d4"
      },
      "execution_count": 4,
      "outputs": [
        {
          "output_type": "execute_result",
          "data": {
            "text/plain": [
              "True"
            ]
          },
          "metadata": {},
          "execution_count": 4
        }
      ]
    },
    {
      "cell_type": "code",
      "source": [
        "omega.shape"
      ],
      "metadata": {
        "colab": {
          "base_uri": "https://localhost:8080/"
        },
        "id": "ymXS71oIc1Py",
        "outputId": "6db74515-d2e6-468f-a8a7-1c9fd4cccc44"
      },
      "execution_count": 5,
      "outputs": [
        {
          "output_type": "execute_result",
          "data": {
            "text/plain": [
              "torch.Size([8, 8])"
            ]
          },
          "metadata": {},
          "execution_count": 5
        }
      ]
    },
    {
      "cell_type": "code",
      "source": [
        "import torch.nn.functional as F \n",
        "attention_weights = F.softmax(omega, dim=1)\n",
        "attention_weights.shape"
      ],
      "metadata": {
        "colab": {
          "base_uri": "https://localhost:8080/"
        },
        "id": "nriLKDatdOfh",
        "outputId": "422170e1-0311-45cc-c470-bb5c7d731756"
      },
      "execution_count": 6,
      "outputs": [
        {
          "output_type": "execute_result",
          "data": {
            "text/plain": [
              "torch.Size([8, 8])"
            ]
          },
          "metadata": {},
          "execution_count": 6
        }
      ]
    },
    {
      "cell_type": "code",
      "source": [
        "attention_weights"
      ],
      "metadata": {
        "colab": {
          "base_uri": "https://localhost:8080/"
        },
        "id": "hEClytscdezd",
        "outputId": "03bdcf7c-ccea-49e3-f757-2d5b250db090"
      },
      "execution_count": 7,
      "outputs": [
        {
          "output_type": "execute_result",
          "data": {
            "text/plain": [
              "tensor([[1.0000e+00, 8.8716e-14, 4.5282e-12, 1.9794e-11, 1.7691e-11, 3.4558e-12,\n",
              "         1.1407e-08, 3.7097e-12],\n",
              "        [1.5851e-06, 8.9771e-01, 1.0376e-03, 2.9957e-03, 1.2276e-03, 8.4663e-02,\n",
              "         7.9979e-05, 1.2282e-02],\n",
              "        [2.1346e-08, 2.7376e-07, 9.9999e-01, 3.4414e-09, 5.4635e-06, 1.4109e-08,\n",
              "         8.3541e-06, 1.9875e-07],\n",
              "        [1.1455e-09, 9.7027e-09, 4.2247e-11, 9.9995e-01, 3.4450e-10, 3.9137e-06,\n",
              "         7.0079e-10, 4.4827e-05],\n",
              "        [1.1860e-06, 4.6064e-06, 7.7701e-05, 3.9909e-07, 9.9992e-01, 8.8794e-07,\n",
              "         1.1313e-09, 1.5174e-07],\n",
              "        [2.8595e-07, 3.9208e-04, 2.4766e-07, 5.5960e-03, 1.0959e-06, 9.9353e-01,\n",
              "         3.7887e-07, 4.7552e-04],\n",
              "        [2.9961e-06, 1.1757e-09, 4.6546e-07, 3.1805e-09, 4.4321e-12, 1.2026e-09,\n",
              "         1.0000e+00, 8.1439e-09],\n",
              "        [5.3149e-08, 9.8482e-06, 6.0406e-07, 1.1098e-02, 3.2428e-08, 8.2335e-05,\n",
              "         4.4424e-07, 9.8881e-01]])"
            ]
          },
          "metadata": {},
          "execution_count": 7
        }
      ]
    },
    {
      "cell_type": "code",
      "source": [
        "attention_weights.sum(dim=1)"
      ],
      "metadata": {
        "colab": {
          "base_uri": "https://localhost:8080/"
        },
        "id": "euugDZqudign",
        "outputId": "70749669-3d13-4e04-aef5-3610fa13a86f"
      },
      "execution_count": 8,
      "outputs": [
        {
          "output_type": "execute_result",
          "data": {
            "text/plain": [
              "tensor([1.0000, 1.0000, 1.0000, 1.0000, 1.0000, 1.0000, 1.0000, 1.0000])"
            ]
          },
          "metadata": {},
          "execution_count": 8
        }
      ]
    },
    {
      "cell_type": "code",
      "source": [
        "x_2 = embedded_sentence[1, :]"
      ],
      "metadata": {
        "id": "MWfygtqofDZX"
      },
      "execution_count": 9,
      "outputs": []
    },
    {
      "cell_type": "code",
      "source": [
        "context_vec_2 = torch.zeros(x_2.shape)"
      ],
      "metadata": {
        "id": "mclCw3cFjpFf"
      },
      "execution_count": 10,
      "outputs": []
    },
    {
      "cell_type": "code",
      "source": [
        "for j in range(8):\n",
        "  x_j = embedded_sentence[j, :]\n",
        "  context_vec_2 += attention_weights[1, j] * x_j"
      ],
      "metadata": {
        "id": "SzFa8ULgjvfy"
      },
      "execution_count": 11,
      "outputs": []
    },
    {
      "cell_type": "code",
      "source": [
        "context_vec_2"
      ],
      "metadata": {
        "colab": {
          "base_uri": "https://localhost:8080/"
        },
        "id": "uKLJ-H8kj9gU",
        "outputId": "fd5136c5-e018-40c2-9deb-633cd502e7fb"
      },
      "execution_count": 12,
      "outputs": [
        {
          "output_type": "execute_result",
          "data": {
            "text/plain": [
              "tensor([-1.5340, -0.0618, -0.4731,  0.4421,  0.7010,  0.1463, -0.2659,  0.4264,\n",
              "        -0.0467,  0.2842,  0.1492,  0.7098,  0.9981,  0.4409,  0.6292,  0.3606])"
            ]
          },
          "metadata": {},
          "execution_count": 12
        }
      ]
    },
    {
      "cell_type": "code",
      "source": [
        "context_vector = torch.matmul(attention_weights, embedded_sentence)"
      ],
      "metadata": {
        "id": "YJ5K7zIWj_3z"
      },
      "execution_count": 13,
      "outputs": []
    },
    {
      "cell_type": "code",
      "source": [
        "context_vector.shape"
      ],
      "metadata": {
        "colab": {
          "base_uri": "https://localhost:8080/"
        },
        "id": "ilwYpi8akRQI",
        "outputId": "8b33e7fc-0c61-4938-fd78-66e6510488b2"
      },
      "execution_count": 14,
      "outputs": [
        {
          "output_type": "execute_result",
          "data": {
            "text/plain": [
              "torch.Size([8, 16])"
            ]
          },
          "metadata": {},
          "execution_count": 14
        }
      ]
    },
    {
      "cell_type": "code",
      "source": [
        "torch.allclose(context_vec_2, context_vector[1])"
      ],
      "metadata": {
        "colab": {
          "base_uri": "https://localhost:8080/"
        },
        "id": "_8AceN-xkTD7",
        "outputId": "1f1133ec-1929-4dae-e33a-1838017e0083"
      },
      "execution_count": 15,
      "outputs": [
        {
          "output_type": "execute_result",
          "data": {
            "text/plain": [
              "True"
            ]
          },
          "metadata": {},
          "execution_count": 15
        }
      ]
    },
    {
      "cell_type": "markdown",
      "source": [
        "##Scaled Dot-product attention"
      ],
      "metadata": {
        "id": "_E4cxnzGoTXv"
      }
    },
    {
      "cell_type": "code",
      "source": [
        "torch.manual_seed(42)\n",
        "d = embedded_sentence.shape[1]\n",
        "U_query = torch.rand(d, d)\n",
        "U_key = torch.rand(d, d)\n",
        "U_value = torch.rand(d, d)"
      ],
      "metadata": {
        "id": "qYi3xuL7oYrK"
      },
      "execution_count": 16,
      "outputs": []
    },
    {
      "cell_type": "code",
      "source": [
        "x_2 = embedded_sentence[1]\n",
        "query_2 = U_query.matmul(x_2)"
      ],
      "metadata": {
        "id": "-8L7-YA62S7e"
      },
      "execution_count": 17,
      "outputs": []
    },
    {
      "cell_type": "code",
      "source": [
        "key_2 = U_key.matmul(x_2)\n",
        "value_2 = U_value.matmul(x_2)"
      ],
      "metadata": {
        "id": "JtXd8s0_2oid"
      },
      "execution_count": 18,
      "outputs": []
    },
    {
      "cell_type": "code",
      "source": [
        "query_2"
      ],
      "metadata": {
        "colab": {
          "base_uri": "https://localhost:8080/"
        },
        "id": "esBm8TZi3g-Q",
        "outputId": "52e684fc-b6b9-4a1d-a296-f7387808bb4b"
      },
      "execution_count": 19,
      "outputs": [
        {
          "output_type": "execute_result",
          "data": {
            "text/plain": [
              "tensor([ 1.9594,  0.9311,  1.9671,  0.8957,  0.0800,  1.5594, -0.1917,  0.2971,\n",
              "         0.3863,  1.8167,  0.8888,  1.2970,  0.6111,  0.9745,  1.6844,  0.5390])"
            ]
          },
          "metadata": {},
          "execution_count": 19
        }
      ]
    },
    {
      "cell_type": "code",
      "source": [
        "keys = U_key.matmul(embedded_sentence.T).T\n",
        "values = U_value.matmul(embedded_sentence.T).T"
      ],
      "metadata": {
        "id": "6LmWwkBz208d"
      },
      "execution_count": 20,
      "outputs": []
    },
    {
      "cell_type": "code",
      "source": [
        "keys.shape"
      ],
      "metadata": {
        "colab": {
          "base_uri": "https://localhost:8080/"
        },
        "id": "qKZ41d0d5TcD",
        "outputId": "b2b73022-3b57-4da9-bc6f-ad55bc5760aa"
      },
      "execution_count": 21,
      "outputs": [
        {
          "output_type": "execute_result",
          "data": {
            "text/plain": [
              "torch.Size([8, 16])"
            ]
          },
          "metadata": {},
          "execution_count": 21
        }
      ]
    },
    {
      "cell_type": "code",
      "source": [
        "omega_23 = query_2.dot(keys[2])\n",
        "omega_23"
      ],
      "metadata": {
        "colab": {
          "base_uri": "https://localhost:8080/"
        },
        "id": "ak-WXD275XM1",
        "outputId": "8db737dd-c746-4a65-9a2f-a0bcff22d978"
      },
      "execution_count": 22,
      "outputs": [
        {
          "output_type": "execute_result",
          "data": {
            "text/plain": [
              "tensor(70.6820)"
            ]
          },
          "metadata": {},
          "execution_count": 22
        }
      ]
    },
    {
      "cell_type": "code",
      "source": [
        "omega_2 = query_2.matmul(keys.T)\n",
        "omega_2"
      ],
      "metadata": {
        "colab": {
          "base_uri": "https://localhost:8080/"
        },
        "id": "kx7MPO-_57iT",
        "outputId": "151d506d-9d38-4b1c-d69b-03bde279ed07"
      },
      "execution_count": 23,
      "outputs": [
        {
          "output_type": "execute_result",
          "data": {
            "text/plain": [
              "tensor([ -2.9915,  19.0139,  70.6820, -32.9331,  -9.6415,  20.1790,  23.0588,\n",
              "        -12.4027])"
            ]
          },
          "metadata": {},
          "execution_count": 23
        }
      ]
    },
    {
      "cell_type": "code",
      "source": [
        "attention_weights_2 = F.softmax(omega_2 / d**0.5, dim=0)\n",
        "attention_weights_2"
      ],
      "metadata": {
        "colab": {
          "base_uri": "https://localhost:8080/"
        },
        "id": "sdO3dRmO6GSk",
        "outputId": "aa8d57e0-33ae-4f52-da84-b298720fe055"
      },
      "execution_count": 24,
      "outputs": [
        {
          "output_type": "execute_result",
          "data": {
            "text/plain": [
              "tensor([1.0023e-08, 2.4558e-06, 9.9999e-01, 5.6250e-12, 1.9010e-09, 3.2862e-06,\n",
              "        6.7510e-06, 9.5321e-10])"
            ]
          },
          "metadata": {},
          "execution_count": 24
        }
      ]
    },
    {
      "cell_type": "code",
      "source": [
        "context_vector_2 = attention_weights_2.matmul(values)\n",
        "context_vector_2.shape"
      ],
      "metadata": {
        "colab": {
          "base_uri": "https://localhost:8080/"
        },
        "id": "8qzBaeav7kKw",
        "outputId": "ff88e366-b7fa-4d20-e8c4-395639e57e68"
      },
      "execution_count": 38,
      "outputs": [
        {
          "output_type": "execute_result",
          "data": {
            "text/plain": [
              "torch.Size([16])"
            ]
          },
          "metadata": {},
          "execution_count": 38
        }
      ]
    },
    {
      "cell_type": "markdown",
      "source": [
        "##Encoding context embedding via multi-head attention"
      ],
      "metadata": {
        "id": "0hH_ce1T_K-z"
      }
    },
    {
      "cell_type": "code",
      "source": [
        "torch.manual_seed(42)\n",
        "d = embedded_sentence.shape[1]\n",
        "one_U_query = torch.rand(d, d)"
      ],
      "metadata": {
        "id": "SZ-9MnCy9D1K"
      },
      "execution_count": 26,
      "outputs": []
    },
    {
      "cell_type": "code",
      "source": [
        "h = 8\n",
        "multihead_U_query = torch.rand(h, d, d)\n",
        "multihead_U_key = torch.rand(h, d, d)\n",
        "multihead_U_value = torch.rand(h, d, d)"
      ],
      "metadata": {
        "id": "WaobQcnBCK4X"
      },
      "execution_count": 27,
      "outputs": []
    },
    {
      "cell_type": "code",
      "source": [
        "multihead_U_query.shape"
      ],
      "metadata": {
        "colab": {
          "base_uri": "https://localhost:8080/"
        },
        "id": "cMMsXi0rCfXm",
        "outputId": "9735c750-5c44-40c3-81c2-79e1c5cbf3fe"
      },
      "execution_count": 28,
      "outputs": [
        {
          "output_type": "execute_result",
          "data": {
            "text/plain": [
              "torch.Size([8, 16, 16])"
            ]
          },
          "metadata": {},
          "execution_count": 28
        }
      ]
    },
    {
      "cell_type": "code",
      "source": [
        "multihead_query_2 = multihead_U_query.matmul(x_2)\n",
        "multihead_query_2.shape"
      ],
      "metadata": {
        "colab": {
          "base_uri": "https://localhost:8080/"
        },
        "id": "W4AWgxYcCmBt",
        "outputId": "2b7a6095-b767-4e80-ef34-792e127965f1"
      },
      "execution_count": 29,
      "outputs": [
        {
          "output_type": "execute_result",
          "data": {
            "text/plain": [
              "torch.Size([8, 16])"
            ]
          },
          "metadata": {},
          "execution_count": 29
        }
      ]
    },
    {
      "cell_type": "code",
      "source": [
        "multihead_key_2 = multihead_U_key.matmul(x_2)\n",
        "multihead_value_2 = multihead_U_value.matmul(x_2)\n",
        "multihead_key_2[2] #the key vector of the second input element via the third attention head"
      ],
      "metadata": {
        "colab": {
          "base_uri": "https://localhost:8080/"
        },
        "id": "dVGlHdqiFIaj",
        "outputId": "1dc06aab-6c30-4629-d218-2ab05aacb6b8"
      },
      "execution_count": 31,
      "outputs": [
        {
          "output_type": "execute_result",
          "data": {
            "text/plain": [
              "tensor([2.0321, 3.2833, 1.5345, 2.3700, 1.1367, 1.2881, 1.6517, 0.1471, 0.7686,\n",
              "        0.6164, 1.2495, 0.9765, 1.7931, 0.3502, 2.4158, 2.2162])"
            ]
          },
          "metadata": {},
          "execution_count": 31
        }
      ]
    },
    {
      "cell_type": "code",
      "source": [
        "stacked_inputs = embedded_sentence.T.repeat(8, 1, 1)\n",
        "stacked_inputs.shape"
      ],
      "metadata": {
        "colab": {
          "base_uri": "https://localhost:8080/"
        },
        "id": "7xWHTu51GlSc",
        "outputId": "dec888e0-9150-412f-e5f1-95cccc7b7b69"
      },
      "execution_count": 32,
      "outputs": [
        {
          "output_type": "execute_result",
          "data": {
            "text/plain": [
              "torch.Size([8, 16, 8])"
            ]
          },
          "metadata": {},
          "execution_count": 32
        }
      ]
    },
    {
      "cell_type": "code",
      "source": [
        "multihead_keys = torch.bmm(multihead_U_key, stacked_inputs)\n",
        "multihead_keys.shape"
      ],
      "metadata": {
        "colab": {
          "base_uri": "https://localhost:8080/"
        },
        "id": "fasUEXWVH6LA",
        "outputId": "397ae5b5-febe-435e-a82b-9dc54906d045"
      },
      "execution_count": 33,
      "outputs": [
        {
          "output_type": "execute_result",
          "data": {
            "text/plain": [
              "torch.Size([8, 16, 8])"
            ]
          },
          "metadata": {},
          "execution_count": 33
        }
      ]
    },
    {
      "cell_type": "code",
      "source": [
        "multihead_keys = multihead_keys.permute(0, 2, 1)\n",
        "multihead_keys.shape"
      ],
      "metadata": {
        "colab": {
          "base_uri": "https://localhost:8080/"
        },
        "id": "4XC4BNQrIJHH",
        "outputId": "70caf0ae-bffd-4cc6-fe6d-d2e7bfea888d"
      },
      "execution_count": 34,
      "outputs": [
        {
          "output_type": "execute_result",
          "data": {
            "text/plain": [
              "torch.Size([8, 8, 16])"
            ]
          },
          "metadata": {},
          "execution_count": 34
        }
      ]
    },
    {
      "cell_type": "code",
      "source": [
        "multihead_keys[2, 1]"
      ],
      "metadata": {
        "colab": {
          "base_uri": "https://localhost:8080/"
        },
        "id": "v7kt4CbcJAza",
        "outputId": "bd392624-f590-4e75-deef-abc4b82836ff"
      },
      "execution_count": 35,
      "outputs": [
        {
          "output_type": "execute_result",
          "data": {
            "text/plain": [
              "tensor([2.0321, 3.2833, 1.5345, 2.3700, 1.1367, 1.2881, 1.6517, 0.1471, 0.7686,\n",
              "        0.6164, 1.2495, 0.9765, 1.7931, 0.3502, 2.4158, 2.2162])"
            ]
          },
          "metadata": {},
          "execution_count": 35
        }
      ]
    },
    {
      "cell_type": "code",
      "source": [
        "multihead_values = torch.matmul(multihead_U_value, stacked_inputs)\n",
        "multihead_values = multihead_values.permute(0, 2, 1)\n",
        "multihead_values.shape"
      ],
      "metadata": {
        "colab": {
          "base_uri": "https://localhost:8080/"
        },
        "id": "B6SfRnsZJKT7",
        "outputId": "af919ee8-624e-44c4-ed34-f8eb253ee7f5"
      },
      "execution_count": 39,
      "outputs": [
        {
          "output_type": "execute_result",
          "data": {
            "text/plain": [
              "torch.Size([8, 8, 16])"
            ]
          },
          "metadata": {},
          "execution_count": 39
        }
      ]
    },
    {
      "cell_type": "code",
      "source": [
        "multihead_z_2 = torch.rand(8, 16)"
      ],
      "metadata": {
        "id": "2bBg_PfHJteK"
      },
      "execution_count": 37,
      "outputs": []
    },
    {
      "cell_type": "code",
      "source": [],
      "metadata": {
        "id": "6QOm9lZNMqhc"
      },
      "execution_count": null,
      "outputs": []
    },
    {
      "cell_type": "code",
      "source": [
        "omega_multi_2 = torch.bmm(multihead_query_2.view(8, 1, 16), multihead_keys.permute(0, 2, 1))"
      ],
      "metadata": {
        "id": "ITqInJdTJ5h1"
      },
      "execution_count": 44,
      "outputs": []
    },
    {
      "cell_type": "code",
      "source": [
        "omega_multi_2.reshape(8, 8)"
      ],
      "metadata": {
        "colab": {
          "base_uri": "https://localhost:8080/"
        },
        "id": "qNfu5r5HLPtp",
        "outputId": "ab001c44-e9ef-4db4-f0ae-81e3f65c4e74"
      },
      "execution_count": 46,
      "outputs": [
        {
          "output_type": "execute_result",
          "data": {
            "text/plain": [
              "tensor([[-15.5688,  34.9046,  86.5956, -44.3004, -20.1171,  39.4888,  36.4776,\n",
              "          -8.8566],\n",
              "        [-16.0979,  35.4817,  95.5323, -41.1672, -15.4768,  43.3473,  36.4272,\n",
              "          -8.7768],\n",
              "        [-34.5850,  34.0992, 125.9822, -57.9907,  -1.2624,  29.3501,  31.2906,\n",
              "         -11.8535],\n",
              "        [-27.1927,  33.4347, 120.7274, -53.0862,  -8.5644,  37.0791,  50.9182,\n",
              "         -12.8642],\n",
              "        [-38.5898,  39.7695, 112.8557, -63.5960,   1.1437,  37.3424,  24.7801,\n",
              "         -16.7707],\n",
              "        [-23.1914,  28.2814, 115.6759, -68.4458,  -1.2872,  38.1419,  44.5119,\n",
              "         -20.5650],\n",
              "        [-30.7315,  33.0491,  96.7358, -43.9044, -13.0432,  32.7895,  41.5091,\n",
              "           4.4069],\n",
              "        [-21.1937,  27.9478,  91.7179, -45.7219,   6.5216,  27.6505,  21.2452,\n",
              "         -10.4728]])"
            ]
          },
          "metadata": {},
          "execution_count": 46
        }
      ]
    },
    {
      "cell_type": "code",
      "source": [],
      "metadata": {
        "id": "lXISAei1OUH0"
      },
      "execution_count": null,
      "outputs": []
    }
  ]
}